{
 "cells": [
  {
   "cell_type": "markdown",
   "id": "90153633-da20-405a-ad63-c24ccfe8ebde",
   "metadata": {},
   "source": [
    "# Download the ERA5 data / ERA5データをダウンロードする"
   ]
  },
  {
   "cell_type": "markdown",
   "id": "9f6c2407-b3c5-4ecb-8c5d-1aa190e02a2f",
   "metadata": {},
   "source": [
    "### Create a configuration file `~/.cdsapirc`\n",
    "- Use a text editor or programs like `vi` or `emacs`:\n",
    "```\n",
    "url: https://cds.climate.copernicus.eu/api/v2\n",
    "key: <UID>:<API key>\n",
    "```\n",
    "where `<UID>` and `<API key>` need to be replaced with your own / "
   ]
  },
  {
   "cell_type": "markdown",
   "id": "35bc1d2c-3377-40ca-8390-4dc4891f65e8",
   "metadata": {},
   "source": [
    "### Import the required modules / 必要なモジュールを読み込む"
   ]
  },
  {
   "cell_type": "code",
   "execution_count": 4,
   "id": "9ab34f49-e16f-4967-8417-95e6eeb6ec6e",
   "metadata": {},
   "outputs": [],
   "source": [
    "import cdsapi\n",
    "c = cdsapi.Client()"
   ]
  },
  {
   "cell_type": "markdown",
   "id": "0228a1fd-9cb3-4368-95fd-2143c0e51c06",
   "metadata": {},
   "source": [
    "### Define your bucket list\n",
    "- Dataset names can be found from https://confluence.ecmwf.int/display/CKB/Climate+Data+Store+%28CDS%29+API+Keywords#ClimateDataStore(CDS)APIKeywords-ERA5familydatasets\n",
    "- Variable names can be found from https://confluence.ecmwf.int/display/CKB/ERA5%3A+data+documentation#ERA5:datadocumentation-Table1\n",
    "- For air pressure, I download 'mean_sea_level_pressure' instead of 'surface_pressure' but over the ocean, they are more or less identical so it does not matter which to use: https://www.weather.gov/bou/pressure_definitions\n",
    "- Precipitation is given as 'mm s$^{-1}$' in ERA5, so it needs to be multipled by 10$^{-3}$ to convert to the units that GOTM wants (m s$^{-1}$)"
   ]
  },
  {
   "cell_type": "code",
   "execution_count": 6,
   "id": "777b3363-633a-47f7-9d57-5b58f60b06cb",
   "metadata": {},
   "outputs": [],
   "source": [
    "lon0 = 0\n",
    "lon1 = 1\n",
    "lat0 = -50\n",
    "lat1 = -45\n",
    "first_year = 2018\n",
    "last_year = 2018\n",
    "list_var = ['2m_temperature']#,'10m_u_component_of_wind','10m_v_component_of_wind','relative_humidity','total_cloud_cover','mean_sea_level_pressure','mean_total_precipitation_rate']\n"
   ]
  },
  {
   "cell_type": "code",
   "execution_count": 9,
   "id": "d9ae58f4-814b-4b7a-abae-1ff3290d546d",
   "metadata": {},
   "outputs": [
    {
     "name": "stdout",
     "output_type": "stream",
     "text": [
      "=========================================================\n",
      "Downloading 2018-01\n"
     ]
    },
    {
     "name": "stderr",
     "output_type": "stream",
     "text": [
      "2024-06-20 10:31:02,848 INFO Welcome to the CDS\n",
      "2024-06-20 10:31:02,849 INFO Sending request to https://cds.climate.copernicus.eu/api/v2/resources/reanalysis-era5-single-levels\n",
      "2024-06-20 10:31:03,205 INFO Downloading https://download-0020.copernicus-climate.eu/cache-compute-0020/cache/data7/adaptor.mars.internal-1718847005.5092685-16549-13-2068fbf9-c505-4117-9d7c-fcf2c1278909.nc to data-era5/2018-01.nc (1.9K)\n",
      "2024-06-20 10:31:03,491 INFO Download rate 6.8K/s                               \n"
     ]
    },
    {
     "name": "stdout",
     "output_type": "stream",
     "text": [
      "=========================================================\n",
      "Downloading 2018-02\n"
     ]
    },
    {
     "name": "stderr",
     "output_type": "stream",
     "text": [
      "2024-06-20 10:31:04,053 INFO Welcome to the CDS\n",
      "2024-06-20 10:31:04,055 INFO Sending request to https://cds.climate.copernicus.eu/api/v2/resources/reanalysis-era5-single-levels\n",
      "2024-06-20 10:31:04,380 INFO Downloading https://download-0006-clone.copernicus-climate.eu/cache-compute-0006/cache/data3/adaptor.mars.internal-1718847012.0650804-15457-19-94f9963e-dceb-4679-ae5a-b9ab46a3c1b0.nc to data-era5/2018-02.nc (1.8K)\n",
      "2024-06-20 10:31:05,495 INFO Download rate 1.7K/s                               \n"
     ]
    },
    {
     "name": "stdout",
     "output_type": "stream",
     "text": [
      "=========================================================\n",
      "Downloading 2018-03\n"
     ]
    },
    {
     "name": "stderr",
     "output_type": "stream",
     "text": [
      "2024-06-20 10:31:06,060 INFO Welcome to the CDS\n",
      "2024-06-20 10:31:06,062 INFO Sending request to https://cds.climate.copernicus.eu/api/v2/resources/reanalysis-era5-single-levels\n",
      "2024-06-20 10:31:06,348 INFO Request is queued\n",
      "2024-06-20 10:31:07,638 INFO Request is running\n",
      "2024-06-20 10:31:09,428 INFO Request is completed\n",
      "2024-06-20 10:31:09,430 INFO Downloading https://download-0008-clone.copernicus-climate.eu/cache-compute-0008/cache/data9/adaptor.mars.internal-1718847068.796487-9554-10-eca8e19e-79c3-4942-8960-a74a1a4f45a5.nc to data-era5/2018-03.nc (1.9K)\n",
      "2024-06-20 10:31:10,860 INFO Download rate 1.3K/s                               \n"
     ]
    },
    {
     "name": "stdout",
     "output_type": "stream",
     "text": [
      "=========================================================\n",
      "Downloading 2018-04\n"
     ]
    },
    {
     "name": "stderr",
     "output_type": "stream",
     "text": [
      "2024-06-20 10:31:11,425 INFO Welcome to the CDS\n",
      "2024-06-20 10:31:11,427 INFO Sending request to https://cds.climate.copernicus.eu/api/v2/resources/reanalysis-era5-single-levels\n",
      "2024-06-20 10:31:11,734 INFO Request is queued\n",
      "2024-06-20 10:31:13,023 INFO Request is running\n",
      "2024-06-20 10:31:17,346 INFO Request is completed\n",
      "2024-06-20 10:31:17,348 INFO Downloading https://download-0014-clone.copernicus-climate.eu/cache-compute-0014/cache/data6/adaptor.mars.internal-1718847075.2168202-12130-6-bc8e41d3-c605-44fc-9d0f-1ab19e47c902.nc to data-era5/2018-04.nc (1.9K)\n",
      "2024-06-20 10:31:18,719 INFO Download rate 1.4K/s                               \n"
     ]
    },
    {
     "name": "stdout",
     "output_type": "stream",
     "text": [
      "=========================================================\n",
      "Downloading 2018-05\n"
     ]
    },
    {
     "name": "stderr",
     "output_type": "stream",
     "text": [
      "2024-06-20 10:31:19,281 INFO Welcome to the CDS\n",
      "2024-06-20 10:31:19,283 INFO Sending request to https://cds.climate.copernicus.eu/api/v2/resources/reanalysis-era5-single-levels\n",
      "2024-06-20 10:31:19,569 INFO Request is queued\n",
      "2024-06-20 10:31:20,858 INFO Request is running\n",
      "2024-06-20 10:31:34,198 INFO Request is completed\n",
      "2024-06-20 10:31:34,200 INFO Downloading https://download-0013-clone.copernicus-climate.eu/cache-compute-0013/cache/data2/adaptor.mars.internal-1718847088.7525616-19746-8-3466ebcb-f635-476b-ad9f-7fa3c9cf3d13.nc to data-era5/2018-05.nc (1.9K)\n",
      "2024-06-20 10:31:35,605 INFO Download rate 1.4K/s                               \n"
     ]
    },
    {
     "name": "stdout",
     "output_type": "stream",
     "text": [
      "=========================================================\n",
      "Downloading 2018-06\n"
     ]
    },
    {
     "name": "stderr",
     "output_type": "stream",
     "text": [
      "2024-06-20 10:31:36,170 INFO Welcome to the CDS\n",
      "2024-06-20 10:31:36,172 INFO Sending request to https://cds.climate.copernicus.eu/api/v2/resources/reanalysis-era5-single-levels\n",
      "2024-06-20 10:31:36,474 INFO Request is queued\n",
      "2024-06-20 10:31:37,765 INFO Request is running\n",
      "2024-06-20 10:31:42,093 INFO Request is completed\n",
      "2024-06-20 10:31:42,095 INFO Downloading https://download-0020.copernicus-climate.eu/cache-compute-0020/cache/data3/adaptor.mars.internal-1718847100.3732815-24216-6-a0552d18-d097-4bc2-bd53-f592145dc9d5.nc to data-era5/2018-06.nc (1.9K)\n",
      "2024-06-20 10:31:42,374 INFO Download rate 6.8K/s                               \n"
     ]
    },
    {
     "name": "stdout",
     "output_type": "stream",
     "text": [
      "=========================================================\n",
      "Downloading 2018-07\n"
     ]
    },
    {
     "name": "stderr",
     "output_type": "stream",
     "text": [
      "2024-06-20 10:31:42,938 INFO Welcome to the CDS\n",
      "2024-06-20 10:31:42,939 INFO Sending request to https://cds.climate.copernicus.eu/api/v2/resources/reanalysis-era5-single-levels\n",
      "2024-06-20 10:31:43,277 INFO Request is queued\n",
      "2024-06-20 10:31:44,565 INFO Request is running\n",
      "2024-06-20 10:31:48,892 INFO Request is completed\n",
      "2024-06-20 10:31:48,894 INFO Downloading https://download-0006-clone.copernicus-climate.eu/cache-compute-0006/cache/data5/adaptor.mars.internal-1718847106.1630654-15437-6-24854fb0-c883-4abf-85d3-2f342b4f869f.nc to data-era5/2018-07.nc (1.9K)\n",
      "2024-06-20 10:31:49,174 INFO Download rate 6.9K/s                               \n"
     ]
    },
    {
     "name": "stdout",
     "output_type": "stream",
     "text": [
      "=========================================================\n",
      "Downloading 2018-08\n"
     ]
    },
    {
     "name": "stderr",
     "output_type": "stream",
     "text": [
      "2024-06-20 10:31:49,737 INFO Welcome to the CDS\n",
      "2024-06-20 10:31:49,739 INFO Sending request to https://cds.climate.copernicus.eu/api/v2/resources/reanalysis-era5-single-levels\n",
      "2024-06-20 10:31:50,037 INFO Request is queued\n",
      "2024-06-20 10:31:51,328 INFO Request is running\n",
      "2024-06-20 10:31:55,657 INFO Request is completed\n",
      "2024-06-20 10:31:55,659 INFO Downloading https://download-0018.copernicus-climate.eu/cache-compute-0018/cache/data0/adaptor.mars.internal-1718847113.181559-760-12-058a2fca-e62b-452f-95c0-721cb8ebbd25.nc to data-era5/2018-08.nc (1.9K)\n",
      "2024-06-20 10:31:57,058 INFO Download rate 1.4K/s                               \n"
     ]
    },
    {
     "name": "stdout",
     "output_type": "stream",
     "text": [
      "=========================================================\n",
      "Downloading 2018-09\n"
     ]
    },
    {
     "name": "stderr",
     "output_type": "stream",
     "text": [
      "2024-06-20 10:31:57,623 INFO Welcome to the CDS\n",
      "2024-06-20 10:31:57,626 INFO Sending request to https://cds.climate.copernicus.eu/api/v2/resources/reanalysis-era5-single-levels\n",
      "2024-06-20 10:31:57,925 INFO Request is queued\n",
      "2024-06-20 10:31:59,213 INFO Request is running\n",
      "2024-06-20 10:32:01,003 INFO Request is completed\n",
      "2024-06-20 10:32:01,005 INFO Downloading https://download-0015-clone.copernicus-climate.eu/cache-compute-0015/cache/data0/adaptor.mars.internal-1718847120.3087792-12007-13-b9f72ce5-616b-4765-810a-679bf88c6da2.nc to data-era5/2018-09.nc (1.9K)\n",
      "2024-06-20 10:32:02,417 INFO Download rate 1.3K/s                               \n"
     ]
    },
    {
     "name": "stdout",
     "output_type": "stream",
     "text": [
      "=========================================================\n",
      "Downloading 2018-10\n"
     ]
    },
    {
     "name": "stderr",
     "output_type": "stream",
     "text": [
      "2024-06-20 10:32:02,980 INFO Welcome to the CDS\n",
      "2024-06-20 10:32:02,982 INFO Sending request to https://cds.climate.copernicus.eu/api/v2/resources/reanalysis-era5-single-levels\n",
      "2024-06-20 10:32:04,136 INFO Request is queued\n",
      "2024-06-20 10:32:05,425 INFO Request is running\n",
      "2024-06-20 10:32:09,752 INFO Request is completed\n",
      "2024-06-20 10:32:09,753 INFO Downloading https://download-0009-clone.copernicus-climate.eu/cache-compute-0009/cache/data9/adaptor.mars.internal-1718847127.0928226-25531-11-c9fc4238-2328-4413-baaa-fe0d2cfca558.nc to data-era5/2018-10.nc (1.9K)\n",
      "2024-06-20 10:32:10,870 INFO Download rate 1.7K/s                               \n"
     ]
    },
    {
     "name": "stdout",
     "output_type": "stream",
     "text": [
      "=========================================================\n",
      "Downloading 2018-11\n"
     ]
    },
    {
     "name": "stderr",
     "output_type": "stream",
     "text": [
      "2024-06-20 10:32:11,432 INFO Welcome to the CDS\n",
      "2024-06-20 10:32:11,434 INFO Sending request to https://cds.climate.copernicus.eu/api/v2/resources/reanalysis-era5-single-levels\n",
      "2024-06-20 10:32:11,721 INFO Request is queued\n",
      "2024-06-20 10:32:13,023 INFO Request is running\n",
      "2024-06-20 10:32:17,350 INFO Request is completed\n",
      "2024-06-20 10:32:17,351 INFO Downloading https://download-0001-clone.copernicus-climate.eu/cache-compute-0001/cache/data8/adaptor.mars.internal-1718847135.337665-9703-18-d00254f8-23d4-4176-a2f0-18ff98ccd904.nc to data-era5/2018-11.nc (1.9K)\n",
      "2024-06-20 10:32:18,718 INFO Download rate 1.4K/s                               \n"
     ]
    },
    {
     "name": "stdout",
     "output_type": "stream",
     "text": [
      "=========================================================\n",
      "Downloading 2018-12\n"
     ]
    },
    {
     "name": "stderr",
     "output_type": "stream",
     "text": [
      "2024-06-20 10:32:19,279 INFO Welcome to the CDS\n",
      "2024-06-20 10:32:19,280 INFO Sending request to https://cds.climate.copernicus.eu/api/v2/resources/reanalysis-era5-single-levels\n",
      "2024-06-20 10:32:19,595 INFO Request is queued\n",
      "2024-06-20 10:32:20,884 INFO Request is running\n",
      "2024-06-20 10:32:25,207 INFO Request is completed\n",
      "2024-06-20 10:32:25,209 INFO Downloading https://download-0018.copernicus-climate.eu/cache-compute-0018/cache/data8/adaptor.mars.internal-1718847142.8734736-3664-4-c273d2a6-6acf-420c-b84b-eae53de4ae78.nc to data-era5/2018-12.nc (1.9K)\n",
      "2024-06-20 10:32:25,497 INFO Download rate 6.7K/s                               \n"
     ]
    }
   ],
   "source": [
    "for year in range(first_year, last_year + 1):\n",
    "    for month in range(1, 13):\n",
    "        print(\"=========================================================\")\n",
    "        print(\"Downloading {year}-{month:02d}\".format(year=year, month=month))\n",
    "        c.retrieve(\n",
    "            'reanalysis-era5-single-levels',\n",
    "            {\n",
    "                'product_type': 'reanalysis',\n",
    "                'variable': '2m_temperature',\n",
    "                'year': str(year),\n",
    "                'month': \"{month:02d}\".format(month=month),\n",
    "                'day': [\n",
    "                    '01', '02', '03',\n",
    "                    '04', '05', '06',\n",
    "                    '07', '08', '09',\n",
    "                    '10', '11', '12',\n",
    "                    '13', '14', '15',\n",
    "                    '16', '17', '18',\n",
    "                    '19', '20', '21',\n",
    "                    '22', '23', '24',\n",
    "                    '25', '26', '27',\n",
    "                    '28', '29', '30',\n",
    "                    '31',\n",
    "                ],\n",
    "#Uncomment if you want hourly data\n",
    "#                'time': [\n",
    "#                    '00:00', '01:00', '02:00',\n",
    "#                    '03:00', '04:00', '05:00',\n",
    "#                    '06:00', '07:00', '08:00',\n",
    "#                    '09:00', '10:00', '11:00',\n",
    "#                    '12:00', '13:00', '14:00',\n",
    "#                    '15:00', '16:00', '17:00',\n",
    "#                    '18:00', '19:00', '20:00',\n",
    "#                    '21:00', '22:00', '23:00',\n",
    "#                ],\n",
    "                'area': [\n",
    "                    lat1,lon0,lat0,lon1, #N,W,S,E\n",
    "                ],\n",
    "                'grid':[1.0, 1.0], # 1 by 1 deg\n",
    "                'format': 'netcdf',\n",
    "            },\n",
    "            \"data-era5/{year}-{month:02d}.nc\".format(year=year, month=month))"
   ]
  },
  {
   "cell_type": "code",
   "execution_count": null,
   "id": "a15f8ef2-04ef-4e03-81ec-1521588e5c12",
   "metadata": {},
   "outputs": [],
   "source": []
  }
 ],
 "metadata": {
  "kernelspec": {
   "display_name": "Python 3 (ipykernel)",
   "language": "python",
   "name": "python3"
  },
  "language_info": {
   "codemirror_mode": {
    "name": "ipython",
    "version": 3
   },
   "file_extension": ".py",
   "mimetype": "text/x-python",
   "name": "python",
   "nbconvert_exporter": "python",
   "pygments_lexer": "ipython3",
   "version": "3.11.7"
  }
 },
 "nbformat": 4,
 "nbformat_minor": 5
}
